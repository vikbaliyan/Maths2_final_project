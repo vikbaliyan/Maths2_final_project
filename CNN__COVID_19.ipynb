{
  "cells": [
    {
      "cell_type": "markdown",
      "metadata": {
        "id": "-XKRsvgzk53_"
      },
      "source": [
        " Import the necessary libraries"
      ]
    },
    {
      "cell_type": "code",
      "execution_count": 5,
      "metadata": {
        "id": "CIjbOaKQiJdX"
      },
      "outputs": [],
      "source": [
        "import tensorflow as tf\n",
        "from tensorflow.keras.models import Sequential\n",
        "from tensorflow.keras.layers import Conv2D, MaxPooling2D, Flatten, Dense, Dropout\n",
        "from tensorflow.keras.preprocessing.image import ImageDataGenerator\n"
      ]
    },
    {
      "cell_type": "markdown",
      "metadata": {
        "id": "Quf-tmf6k8hT"
      },
      "source": [
        "Set up the dataset and data augmentation"
      ]
    },
    {
      "cell_type": "code",
      "execution_count": 6,
      "metadata": {
        "colab": {
          "base_uri": "https://localhost:8080/"
        },
        "id": "NYhoLtyCj_aD",
        "outputId": "af09b24d-1287-4130-e007-f96a9ead3cb3"
      },
      "outputs": [
        {
          "name": "stdout",
          "output_type": "stream",
          "text": [
            "Found 251 images belonging to 3 classes.\n"
          ]
        }
      ],
      "source": [
        "# Define the path to your train folder containing three sub-folders (one for each class).\n",
        "train_path = 'train'\n",
        "\n",
        "# Set up data augmentation to improve the model's performance and prevent overfitting.\n",
        "\n",
        "datagen = ImageDataGenerator(\n",
        "    rescale=1./255,       # Normalize pixel values between 0 and 1\n",
        "    rotation_range=20,    # Randomly rotate images within 20 degrees\n",
        "    width_shift_range=0.1,  # Randomly shift the width of images by 10%\n",
        "    height_shift_range=0.1,  # Randomly shift the height of images by 10%\n",
        "    shear_range=0.2,       # Shear transformation\n",
        "    zoom_range=0.2,        # Randomly zoom in images\n",
        "    horizontal_flip=True,  # Randomly flip images horizontally\n",
        "    fill_mode='nearest'    # Fill missing pixels with the nearest value\n",
        ")\n",
        "\n",
        "# Load and augment the images from the train directory.\n",
        "train_generator = datagen.flow_from_directory(\n",
        "    train_path,\n",
        "    target_size=(150, 150),  # Resize the images to 150x150 pixels\n",
        "    batch_size=32,\n",
        "    class_mode='categorical'  # For multi-class classification\n",
        ")\n"
      ]
    },
    {
      "cell_type": "markdown",
      "metadata": {
        "id": "K8XOyd5Ck_bY"
      },
      "source": [
        "Create the CNN model"
      ]
    },
    {
      "cell_type": "code",
      "execution_count": 7,
      "metadata": {
        "id": "TVU2BrH7kDqS"
      },
      "outputs": [],
      "source": [
        "model = Sequential([\n",
        "    Conv2D(32, (3, 3), activation='relu', input_shape=(150, 150, 3)),\n",
        "    MaxPooling2D(2, 2),\n",
        "\n",
        "    Conv2D(64, (3, 3), activation='relu'),\n",
        "    MaxPooling2D(2, 2),\n",
        "\n",
        "    Conv2D(128, (3, 3), activation='relu'),\n",
        "    MaxPooling2D(2, 2),\n",
        "\n",
        "    Flatten(),\n",
        "    Dense(512, activation='relu'),\n",
        "    Dropout(0.5),  # Dropout layer to reduce overfitting\n",
        "    Dense(3, activation='softmax')  # 3 classes\n",
        "])"
      ]
    },
    {
      "cell_type": "markdown",
      "metadata": {
        "id": "Gp5NajVGlCyq"
      },
      "source": [
        "Compile the model"
      ]
    },
    {
      "cell_type": "code",
      "execution_count": 8,
      "metadata": {
        "id": "YIqsSTqAkLkF"
      },
      "outputs": [],
      "source": [
        "model.compile(optimizer='adam', loss='categorical_crossentropy', metrics=['accuracy'])\n"
      ]
    },
    {
      "cell_type": "markdown",
      "metadata": {
        "id": "yWhbG4AllEvO"
      },
      "source": [
        " Train the model"
      ]
    },
    {
      "cell_type": "code",
      "execution_count": 9,
      "metadata": {
        "colab": {
          "base_uri": "https://localhost:8080/"
        },
        "id": "RYx7deA-kNpV",
        "outputId": "9aa83c9e-133e-4ca4-a41e-759e629fd153"
      },
      "outputs": [
        {
          "name": "stdout",
          "output_type": "stream",
          "text": [
            "Epoch 1/10\n",
            "8/8 [==============================] - 11s 591ms/step - loss: 1.2229 - accuracy: 0.3108\n",
            "Epoch 2/10\n",
            "8/8 [==============================] - 6s 740ms/step - loss: 0.9302 - accuracy: 0.5618\n",
            "Epoch 3/10\n",
            "8/8 [==============================] - 6s 720ms/step - loss: 0.6032 - accuracy: 0.7291\n",
            "Epoch 4/10\n",
            "8/8 [==============================] - 7s 929ms/step - loss: 0.6567 - accuracy: 0.7530\n",
            "Epoch 5/10\n",
            "8/8 [==============================] - 5s 674ms/step - loss: 0.6092 - accuracy: 0.7171\n",
            "Epoch 6/10\n",
            "8/8 [==============================] - 6s 762ms/step - loss: 0.4771 - accuracy: 0.8207\n",
            "Epoch 7/10\n",
            "8/8 [==============================] - 5s 672ms/step - loss: 0.4803 - accuracy: 0.7928\n",
            "Epoch 8/10\n",
            "8/8 [==============================] - 6s 807ms/step - loss: 0.4561 - accuracy: 0.8048\n",
            "Epoch 9/10\n",
            "8/8 [==============================] - 7s 852ms/step - loss: 0.3817 - accuracy: 0.8446\n",
            "Epoch 10/10\n",
            "8/8 [==============================] - 9s 866ms/step - loss: 0.4161 - accuracy: 0.8088\n"
          ]
        },
        {
          "data": {
            "text/plain": [
              "<keras.callbacks.History at 0x7d7def29f100>"
            ]
          },
          "execution_count": 9,
          "metadata": {},
          "output_type": "execute_result"
        }
      ],
      "source": [
        "epochs = 10  \n",
        "model.fit(train_generator, epochs=epochs)\n"
      ]
    },
    {
      "cell_type": "markdown",
      "metadata": {
        "id": "dWfdtvVTlH3a"
      },
      "source": [
        "Save the model as an .h5 file after training"
      ]
    },
    {
      "cell_type": "code",
      "execution_count": 10,
      "metadata": {
        "id": "cd1Fqo9IkO5X"
      },
      "outputs": [],
      "source": [
        "model.save('trained_model.h5')\n"
      ]
    },
    {
      "cell_type": "markdown",
      "metadata": {
        "id": "oWzqLtPglJ1b"
      },
      "source": [
        "Load the model and print the summary"
      ]
    },
    {
      "cell_type": "code",
      "execution_count": 11,
      "metadata": {
        "colab": {
          "base_uri": "https://localhost:8080/"
        },
        "id": "X-vXypqbkbuh",
        "outputId": "6e289807-2661-4a9f-edb8-d63325436ab6"
      },
      "outputs": [
        {
          "name": "stdout",
          "output_type": "stream",
          "text": [
            "Model: \"sequential\"\n",
            "_________________________________________________________________\n",
            " Layer (type)                Output Shape              Param #   \n",
            "=================================================================\n",
            " conv2d (Conv2D)             (None, 148, 148, 32)      896       \n",
            "                                                                 \n",
            " max_pooling2d (MaxPooling2D  (None, 74, 74, 32)       0         \n",
            " )                                                               \n",
            "                                                                 \n",
            " conv2d_1 (Conv2D)           (None, 72, 72, 64)        18496     \n",
            "                                                                 \n",
            " max_pooling2d_1 (MaxPooling  (None, 36, 36, 64)       0         \n",
            " 2D)                                                             \n",
            "                                                                 \n",
            " conv2d_2 (Conv2D)           (None, 34, 34, 128)       73856     \n",
            "                                                                 \n",
            " max_pooling2d_2 (MaxPooling  (None, 17, 17, 128)      0         \n",
            " 2D)                                                             \n",
            "                                                                 \n",
            " flatten (Flatten)           (None, 36992)             0         \n",
            "                                                                 \n",
            " dense (Dense)               (None, 512)               18940416  \n",
            "                                                                 \n",
            " dropout (Dropout)           (None, 512)               0         \n",
            "                                                                 \n",
            " dense_1 (Dense)             (None, 3)                 1539      \n",
            "                                                                 \n",
            "=================================================================\n",
            "Total params: 19,035,203\n",
            "Trainable params: 19,035,203\n",
            "Non-trainable params: 0\n",
            "_________________________________________________________________\n",
            "None\n"
          ]
        }
      ],
      "source": [
        "from tensorflow.keras.models import load_model\n",
        "\n",
        "loaded_model = load_model('trained_model.h5')\n",
        "print(loaded_model.summary())\n"
      ]
    },
    {
      "cell_type": "markdown",
      "metadata": {
        "id": "Scw--7RalMxl"
      },
      "source": [
        "Plot the loss and accuracy graph during training"
      ]
    },
    {
      "cell_type": "code",
      "execution_count": 12,
      "metadata": {
        "colab": {
          "base_uri": "https://localhost:8080/",
          "height": 415
        },
        "id": "083gl9EHkc39",
        "outputId": "1845c560-c7fe-4572-d4c4-43a5c9b79b5e"
      },
      "outputs": [
        {
          "data": {
            "image/png": "[encoded data removed]",
            "text/plain": [
              "<Figure size 1200x600 with 2 Axes>"
            ]
          },
          "metadata": {},
          "output_type": "display_data"
        }
      ],
      "source": [
        "import matplotlib.pyplot as plt\n",
        "\n",
        "# Access the history object that was returned after training the model\n",
        "history = model.history\n",
        "\n",
        "# Plot the loss and accuracy during training\n",
        "plt.figure(figsize=(12, 6))\n",
        "plt.subplot(1, 2, 1)\n",
        "plt.plot(history.history['loss'], label='Training Loss')\n",
        "plt.title('Training Loss')\n",
        "plt.xlabel('Epoch')\n",
        "plt.ylabel('Loss')\n",
        "plt.legend()\n",
        "\n",
        "plt.subplot(1, 2, 2)\n",
        "plt.plot(history.history['accuracy'], label='Training Accuracy')\n",
        "plt.title('Training Accuracy')\n",
        "plt.xlabel('Epoch')\n",
        "plt.ylabel('Accuracy')\n",
        "plt.legend()\n",
        "\n",
        "plt.tight_layout()\n",
        "plt.show()\n"
      ]
    },
    {
      "cell_type": "code",
      "execution_count": null,
      "metadata": {
        "id": "oL8YQRizkeOj"
      },
      "outputs": [],
      "source": []
    },
    {
      "cell_type": "markdown",
      "metadata": {
        "id": "w75ZHMDYltCD"
      },
      "source": [
        "##Testing"
      ]
    },
    {
      "cell_type": "markdown",
      "metadata": {
        "id": "WgRI4AtVl1Pg"
      },
      "source": [
        "Load the saved model"
      ]
    },
    {
      "cell_type": "code",
      "execution_count": 13,
      "metadata": {
        "id": "-tka64x8lxhd"
      },
      "outputs": [],
      "source": [
        "from tensorflow.keras.models import load_model\n",
        "\n",
        "loaded_model = load_model('trained_model.h5')\n"
      ]
    },
    {
      "cell_type": "markdown",
      "metadata": {
        "id": "UFZtEyGZl5_9"
      },
      "source": [
        "Set up the test data using ImageDataGenerator\n"
      ]
    },
    {
      "cell_type": "code",
      "execution_count": 15,
      "metadata": {
        "colab": {
          "base_uri": "https://localhost:8080/"
        },
        "id": "S5wrSj-rl2wn",
        "outputId": "611aed0d-626f-4a3d-9ec9-6b43554b257a"
      },
      "outputs": [
        {
          "name": "stdout",
          "output_type": "stream",
          "text": [
            "Found 66 images belonging to 3 classes.\n"
          ]
        }
      ],
      "source": [
        "test_path = 'test'\n",
        "\n",
        "test_datagen = ImageDataGenerator(rescale=1./255)\n",
        "\n",
        "test_generator = test_datagen.flow_from_directory(\n",
        "    test_path,\n",
        "    target_size=(150, 150),\n",
        "    batch_size=32,\n",
        "    class_mode='categorical',\n",
        "    shuffle=False  # Make sure to set shuffle to False to get correct labels for evaluation\n",
        ")\n"
      ]
    },
    {
      "cell_type": "markdown",
      "metadata": {
        "id": "_vZgB7KwmAuk"
      },
      "source": [
        "Evaluate the model on the test data"
      ]
    },
    {
      "cell_type": "code",
      "execution_count": 16,
      "metadata": {
        "colab": {
          "base_uri": "https://localhost:8080/"
        },
        "id": "ngb4PiDll9Go",
        "outputId": "31625dee-9a08-4493-eaf9-f47b09226633"
      },
      "outputs": [
        {
          "name": "stdout",
          "output_type": "stream",
          "text": [
            "3/3 [==============================] - 1s 284ms/step - loss: 0.3965 - accuracy: 0.7879\n",
            "Test Loss: 0.3965\n",
            "Test Accuracy: 0.7879\n"
          ]
        }
      ],
      "source": [
        "loss, accuracy = loaded_model.evaluate(test_generator)\n",
        "\n",
        "print(f\"Test Loss: {loss:.4f}\")\n",
        "print(f\"Test Accuracy: {accuracy:.4f}\")\n"
      ]
    },
    {
      "cell_type": "code",
      "execution_count": 17,
      "metadata": {
        "colab": {
          "base_uri": "https://localhost:8080/",
          "height": 599
        },
        "id": "-TOP6b_9mCM5",
        "outputId": "21c5215b-4696-4bc0-effa-4fff2b49d0b5"
      },
      "outputs": [
        {
          "name": "stdout",
          "output_type": "stream",
          "text": [
            "3/3 [==============================] - 3s 679ms/step\n",
            "Test Accuracy: 0.7879\n"
          ]
        },
        {
          "data": {
            "image/png": "[encoded data removed]",
            "text/plain": [
              "<Figure size 800x600 with 2 Axes>"
            ]
          },
          "metadata": {},
          "output_type": "display_data"
        }
      ],
      "source": [
        "import numpy as np\n",
        "from sklearn.metrics import confusion_matrix, accuracy_score\n",
        "import seaborn as sns\n",
        "\n",
        "# Get the true labels and predictions for the test data\n",
        "y_true = test_generator.classes\n",
        "y_pred = loaded_model.predict(test_generator)\n",
        "y_pred_classes = np.argmax(y_pred, axis=1)\n",
        "\n",
        "# Calculate the accuracy\n",
        "accuracy = accuracy_score(y_true, y_pred_classes)\n",
        "print(f\"Test Accuracy: {accuracy:.4f}\")\n",
        "\n",
        "# Create the confusion matrix\n",
        "cm = confusion_matrix(y_true, y_pred_classes)\n",
        "\n",
        "# Plot the confusion matrix as a heatmap\n",
        "class_names = list(test_generator.class_indices.keys())\n",
        "plt.figure(figsize=(8, 6))\n",
        "sns.heatmap(cm, annot=True, fmt='d', cmap='Blues', xticklabels=class_names, yticklabels=class_names)\n",
        "plt.title('Confusion Matrix')\n",
        "plt.xlabel('Predicted Labels')\n",
        "plt.ylabel('True Labels')\n",
        "plt.show()\n"
      ]
    },
    {
      "cell_type": "code",
      "execution_count": null,
      "metadata": {
        "id": "ivlWcBV7mTNd"
      },
      "outputs": [],
      "source": []
    }
  ],
  "metadata": {
    "accelerator": "GPU",
    "colab": {
      "provenance": []
    },
    "kernelspec": {
      "display_name": "Python 3",
      "name": "python3"
    },
    "language_info": {
      "name": "python"
    }
  },
  "nbformat": 4,
  "nbformat_minor": 0
}
